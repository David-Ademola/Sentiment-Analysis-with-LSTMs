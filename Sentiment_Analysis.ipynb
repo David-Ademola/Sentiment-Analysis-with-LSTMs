{
  "cells": [
    {
      "cell_type": "code",
      "execution_count": 7,
      "metadata": {
        "id": "ADBotPxL-ji0"
      },
      "outputs": [],
      "source": [
        "import os\n",
        "import re\n",
        "from collections import Counter\n",
        "from string import punctuation\n",
        "\n",
        "import numpy as np\n",
        "import tensorflow as tf\n",
        "from keras.callbacks import CSVLogger, EarlyStopping, ReduceLROnPlateau\n",
        "from keras.layers import LSTM, Dense, Dropout, Embedding\n",
        "from keras.models import Sequential, save_model\n",
        "from keras.preprocessing.text import Tokenizer\n",
        "from matplotlib import pyplot\n",
        "from pandas import Series, read_csv, read_json, read_pickle\n",
        "from nltk.corpus import stopwords\n",
        "from nltk.tokenize import word_tokenize\n",
        "\n",
        "import nltk\n",
        "from nltk import WordNetLemmatizer, pos_tag"
      ]
    },
    {
      "cell_type": "code",
      "execution_count": 2,
      "metadata": {
        "colab": {
          "base_uri": "https://localhost:8080/"
        },
        "id": "Ui7h8ANY-wyK",
        "outputId": "a1b4c11d-1bf1-48b4-89bb-59d36e39c1da"
      },
      "outputs": [
        {
          "name": "stderr",
          "output_type": "stream",
          "text": [
            "[nltk_data] Downloading package averaged_perceptron_tagger to nltk...\n",
            "[nltk_data]   Unzipping taggers/averaged_perceptron_tagger.zip.\n",
            "[nltk_data] Downloading package wordnet to nltk...\n",
            "[nltk_data] Downloading package omw-1.4 to nltk...\n",
            "[nltk_data] Downloading package stopwords to nltk...\n",
            "[nltk_data]   Unzipping corpora/stopwords.zip.\n",
            "[nltk_data] Downloading package punkt to nltk...\n",
            "[nltk_data]   Unzipping tokenizers/punkt.zip.\n"
          ]
        }
      ],
      "source": [
        "nltk.download(\"averaged_perceptron_tagger\", download_dir=\"nltk\")\n",
        "nltk.download(\"wordnet\", download_dir=\"nltk\")\n",
        "nltk.download(\"omw-1.4\", download_dir=\"nltk\")\n",
        "nltk.download(\"stopwords\", download_dir=\"nltk\")\n",
        "nltk.download(\"punkt\", download_dir=\"nltk\")\n",
        "nltk.data.path.append(os.path.abspath(\"nltk\"))"
      ]
    },
    {
      "cell_type": "code",
      "execution_count": 3,
      "metadata": {
        "id": "JXG66ipf_RxC"
      },
      "outputs": [],
      "source": [
        "RANDOM_SEED = 1\n",
        "\n",
        "\n",
        "def clean_text(doc: str) -> list[str]:\n",
        "    \"\"\"A function that cleans a given text document\"\"\"\n",
        "    stop_words = set(stopwords.words(\"english\")) - {\"not\", \"no\"}\n",
        "    lemmatizer = WordNetLemmatizer()\n",
        "\n",
        "    doc = doc.lower()\n",
        "    doc = doc.replace(\"n't\", \" not \")\n",
        "    doc = re.sub(r\"(?:\\'ll |\\'re |\\'d |\\'ve)\", \" \", doc)\n",
        "    doc = re.sub(r\"/d+\", \"\", doc)\n",
        "\n",
        "    tokens = [\n",
        "        word\n",
        "        for word in word_tokenize(doc)\n",
        "        if word not in stop_words and word not in punctuation\n",
        "    ]\n",
        "\n",
        "    pos_tags = pos_tag(tokens)\n",
        "    cleaned_text = [\n",
        "        (\n",
        "            lemmatizer.lemmatize(word, part_of_speech[0].lower())\n",
        "            if part_of_speech[0] in \"NV\"\n",
        "            else word\n",
        "        )\n",
        "        for word, part_of_speech in pos_tags\n",
        "    ]\n",
        "\n",
        "    return cleaned_text\n",
        "\n",
        "\n",
        "def split_data(features: Series, targets: Series, train_fraction: float = 0.8):\n",
        "    \"\"\"Splits a given dataset into training, validation and test sets\"\"\"\n",
        "    # Separate indices of negative and positive data points\n",
        "    neg_indices = Series(targets.loc[(targets == 0)].index)\n",
        "    pos_indices = Series(targets.loc[(targets == 1)].index)\n",
        "\n",
        "    n_test = int(\n",
        "        min([len(neg_indices), len(pos_indices)]) * ((1 - train_fraction) / 2.0)\n",
        "    )\n",
        "\n",
        "    neg_test_inds = neg_indices.sample(n=n_test, random_state=RANDOM_SEED)\n",
        "    neg_valid_inds = neg_indices.loc[~neg_indices.isin(neg_test_inds)].sample(\n",
        "        n=n_test, random_state=RANDOM_SEED\n",
        "    )\n",
        "    neg_train_inds = neg_indices.loc[\n",
        "        ~neg_indices.isin(neg_test_inds.tolist() + neg_valid_inds.tolist())\n",
        "    ]\n",
        "\n",
        "    pos_test_inds = pos_indices.sample(n=n_test, random_state=RANDOM_SEED)\n",
        "    pos_valid_inds = pos_indices.loc[~pos_indices.isin(pos_test_inds)].sample(\n",
        "        n=n_test, random_state=RANDOM_SEED\n",
        "    )\n",
        "    pos_train_inds = pos_indices.loc[\n",
        "        ~pos_indices.isin(pos_test_inds.tolist() + pos_valid_inds.tolist())\n",
        "    ]\n",
        "\n",
        "    train_features = features.loc[\n",
        "        neg_train_inds.tolist() + pos_train_inds.tolist()\n",
        "    ].sample(frac=1.0, random_state=RANDOM_SEED)\n",
        "    train_target = targets.loc[\n",
        "        neg_train_inds.tolist() + pos_train_inds.tolist()\n",
        "    ].sample(frac=1.0, random_state=RANDOM_SEED)\n",
        "\n",
        "    valid_features = features.loc[\n",
        "        neg_valid_inds.tolist() + pos_valid_inds.tolist()\n",
        "    ].sample(frac=1.0, random_state=RANDOM_SEED)\n",
        "    valid_targets = targets.loc[\n",
        "        neg_valid_inds.tolist() + pos_valid_inds.tolist()\n",
        "    ].sample(frac=1.0, random_state=RANDOM_SEED)\n",
        "\n",
        "    test_features = features.loc[\n",
        "        neg_test_inds.tolist() + pos_test_inds.tolist()\n",
        "    ].sample(frac=1.0, random_state=RANDOM_SEED)\n",
        "    test_targets = targets.loc[neg_test_inds.tolist() + pos_test_inds.tolist()].sample(\n",
        "        frac=1.0, random_state=RANDOM_SEED\n",
        "    )\n",
        "\n",
        "    print(f\"Training data: {len(train_features)}\")\n",
        "    print(f\"Validation data: {len(valid_features)}\")\n",
        "    print(f\"Test data: {len(test_features)}\")\n",
        "\n",
        "    return (\n",
        "        (train_features, train_target),\n",
        "        (valid_features, valid_targets),\n",
        "        (test_features, test_targets),\n",
        "    )\n",
        "\n",
        "\n",
        "def get_pipeline(\n",
        "    text_seq: list[list[int]],\n",
        "    outputs: Series,\n",
        "    batch_size: int = 64,\n",
        "    bucket_boundaries: list[int] = [5, 15],\n",
        "    max_length: int = 50,\n",
        "    shuffle: bool = False,\n",
        "):\n",
        "    \"\"\"Data pipeline that converts sequences to batches of data\"\"\"\n",
        "    data_seq = [[b] + a for a, b in zip(text_seq, outputs)]\n",
        "    tf_data = tf.ragged.constant(data_seq)[:, :max_length]\n",
        "    text_ds = tf.data.Dataset.from_tensor_slices(tf_data)\n",
        "\n",
        "    bucket_fn = tf.data.experimental.bucket_by_sequence_length(\n",
        "        lambda x: tf.cast(tf.shape(x)[0], tf.int32),\n",
        "        bucket_boundaries=bucket_boundaries,\n",
        "        bucket_batch_sizes=[batch_size] * 3,\n",
        "        padded_shapes=None,\n",
        "        padding_values=0,\n",
        "    )\n",
        "    text_ds = text_ds.map(lambda x: x).apply(bucket_fn)\n",
        "\n",
        "    if shuffle:\n",
        "        text_ds = text_ds.shuffle(buffer_size=10 * batch_size)\n",
        "\n",
        "    text_ds = text_ds.map(lambda x: (x[:, 1:], x[:, 0]))\n",
        "\n",
        "    return text_ds"
      ]
    },
    {
      "cell_type": "code",
      "execution_count": 4,
      "metadata": {
        "colab": {
          "base_uri": "https://localhost:8080/"
        },
        "id": "VWLIHaVy_muT",
        "outputId": "3597a899-a63d-47fc-b4f6-8898758972c3"
      },
      "outputs": [
        {
          "name": "stdout",
          "output_type": "stream",
          "text": [
            "Mounted at drive\n"
          ]
        },
        {
          "name": "stderr",
          "output_type": "stream",
          "text": [
            "<ipython-input-4-71e5515f44d2>:15: SettingWithCopyWarning: \n",
            "A value is trying to be set on a copy of a slice from a DataFrame.\n",
            "Try using .loc[row_indexer,col_indexer] = value instead\n",
            "\n",
            "See the caveats in the documentation: https://pandas.pydata.org/pandas-docs/stable/user_guide/indexing.html#returning-a-view-versus-a-copy\n",
            "  verified_df[\"targets\"] = verified_df[\"overall\"].map({5: 1, 4: 1, 3: 0, 2: 0, 1: 0})\n"
          ]
        },
        {
          "name": "stdout",
          "output_type": "stream",
          "text": [
            "Training data: 310388\n",
            "Validation data: 11058\n",
            "Test data: 11058\n"
          ]
        }
      ],
      "source": [
        "BATCH_SIZE = 128\n",
        "\n",
        "review_df = read_json(\n",
        "    os.path.join(\"data\", \"Video_Games_5.json\"), lines=True, orient=\"records\"\n",
        ")\n",
        "review_df = review_df[[\"overall\", \"verified\", \"reviewTime\", \"reviewText\"]]\n",
        "\n",
        "review_df = review_df.dropna(subset=[\"reviewText\"])\n",
        "review_df = review_df[review_df[\"reviewText\"].str.strip().str.len() > 0]\n",
        "\n",
        "verified_df = review_df.loc[review_df[\"verified\"]]\n",
        "verified_df[\"targets\"] = verified_df[\"overall\"].map({5: 1, 4: 1, 3: 0, 2: 0, 1: 0})\n",
        "verified_df = verified_df.sample(frac=1.0, random_state=RANDOM_SEED)\n",
        "\n",
        "inputs, labels = verified_df[\"reviewText\"], verified_df[\"targets\"]\n",
        "\n",
        "if not os.path.exists(os.path.join(\"data\", \"sentiment_features.pkl\")):\n",
        "    inputs = inputs.apply(clean_text)\n",
        "\n",
        "    inputs.to_pickle(os.path.join(\"data\", \"sentiment_features.pkl\"))\n",
        "    labels.to_pickle(os.path.join(\"data\", \"sentiment_targets.pkl\"))\n",
        "\n",
        "inputs = read_pickle(os.path.join(\"data\", \"sentiment_features.pkl\"))\n",
        "labels = read_pickle(os.path.join(\"data\", \"sentiment_targets.pkl\"))\n",
        "\n",
        "(train_input, train_label), (valid_input, valid_label), (test_input, test_label) = (\n",
        "    split_data(inputs, labels)\n",
        ")\n",
        "\n",
        "word_list = [word for doc in train_input for word in doc]\n",
        "word_count = Counter(word_list)\n",
        "WORD_FREQUENCY = Series(list(word_count.values()), list(word_count.keys())).sort_values(\n",
        "    ascending=False\n",
        ")\n",
        "n_vocab = (WORD_FREQUENCY >= 25).sum()\n",
        "sequence_length = train_input.str.len()\n",
        "\n",
        "tokenizer = Tokenizer(n_vocab, lower=False, oov_token=\"unk\")\n",
        "tokenizer.fit_on_texts(train_input.to_list())\n",
        "\n",
        "train_input = tokenizer.texts_to_sequences(train_input.to_list())\n",
        "valid_input = tokenizer.texts_to_sequences(valid_input.to_list())\n",
        "test_input = tokenizer.texts_to_sequences(test_input.to_list())"
      ]
    },
    {
      "cell_type": "code",
      "execution_count": 5,
      "metadata": {
        "colab": {
          "base_uri": "https://localhost:8080/"
        },
        "id": "GFxblgpGAM3q",
        "outputId": "edc11148-2c32-4e53-d436-2e88d9712fce"
      },
      "outputs": [
        {
          "name": "stdout",
          "output_type": "stream",
          "text": [
            "Model: \"sequential\"\n",
            "_________________________________________________________________\n",
            " Layer (type)                Output Shape              Param #   \n",
            "=================================================================\n",
            " embedding (Embedding)       (None, None, 128)         1520768   \n",
            "                                                                 \n",
            " lstm (LSTM)                 (None, 128)               131584    \n",
            "                                                                 \n",
            " dense (Dense)               (None, 512)               66048     \n",
            "                                                                 \n",
            " dropout (Dropout)           (None, 512)               0         \n",
            "                                                                 \n",
            " dense_1 (Dense)             (None, 1)                 513       \n",
            "                                                                 \n",
            "=================================================================\n",
            "Total params: 1718913 (6.56 MB)\n",
            "Trainable params: 1718913 (6.56 MB)\n",
            "Non-trainable params: 0 (0.00 Byte)\n",
            "_________________________________________________________________\n"
          ]
        },
        {
          "name": "stderr",
          "output_type": "stream",
          "text": [
            "WARNING:tensorflow:From <ipython-input-3-4e365406c19d>:104: bucket_by_sequence_length (from tensorflow.python.data.experimental.ops.grouping) is deprecated and will be removed in a future version.\n",
            "Instructions for updating:\n",
            "Use `tf.data.Dataset.bucket_by_sequence_length(...)`.\n"
          ]
        },
        {
          "name": "stdout",
          "output_type": "stream",
          "text": [
            "Using val_loss metric and mode = min for EarlyStopping\n",
            "\n",
            "\n",
            "Epoch 1/10\n",
            "2427/2427 [==============================] - 95s 31ms/step - loss: 0.7256 - accuracy: 0.8028 - val_loss: 0.3750 - val_accuracy: 0.8347 - lr: 0.0010\n",
            "Epoch 2/10\n",
            "2427/2427 [==============================] - 44s 15ms/step - loss: 0.5939 - accuracy: 0.8527 - val_loss: 0.3669 - val_accuracy: 0.8410 - lr: 0.0010\n",
            "Epoch 3/10\n",
            "2427/2427 [==============================] - 41s 14ms/step - loss: 0.5237 - accuracy: 0.8723 - val_loss: 0.3843 - val_accuracy: 0.8404 - lr: 0.0010\n",
            "Epoch 4/10\n",
            "2427/2427 [==============================] - 41s 14ms/step - loss: 0.4648 - accuracy: 0.8874 - val_loss: 0.4043 - val_accuracy: 0.8377 - lr: 0.0010\n",
            "Epoch 5/10\n",
            "2427/2427 [==============================] - 42s 15ms/step - loss: 0.4160 - accuracy: 0.9008 - val_loss: 0.4854 - val_accuracy: 0.8291 - lr: 0.0010\n",
            "Epoch 6/10\n",
            "2427/2427 [==============================] - 42s 15ms/step - loss: 0.3174 - accuracy: 0.9281 - val_loss: 0.6078 - val_accuracy: 0.8242 - lr: 1.0000e-04\n",
            "Epoch 7/10\n",
            "2427/2427 [==============================] - 44s 16ms/step - loss: 0.2927 - accuracy: 0.9337 - val_loss: 0.7234 - val_accuracy: 0.8192 - lr: 1.0000e-04\n",
            "Epoch 8/10\n",
            "2427/2427 [==============================] - 41s 14ms/step - loss: 0.2761 - accuracy: 0.9375 - val_loss: 0.8065 - val_accuracy: 0.8165 - lr: 1.0000e-04\n"
          ]
        }
      ],
      "source": [
        "model = Sequential(\n",
        "    [\n",
        "        Embedding(input_dim=n_vocab + 1, output_dim=128, mask_zero=True),\n",
        "        LSTM(128, return_state=False, return_sequences=False),\n",
        "        Dense(512, activation=tf.nn.relu),\n",
        "        Dropout(0.5),\n",
        "        Dense(1, activation=tf.nn.sigmoid),\n",
        "    ]\n",
        ")\n",
        "model.compile(optimizer=\"adam\", loss=\"binary_crossentropy\", metrics=[\"accuracy\"])\n",
        "model.summary()\n",
        "\n",
        "train_ds = get_pipeline(train_input, train_label, batch_size=BATCH_SIZE, shuffle=True)\n",
        "valid_ds = get_pipeline(valid_input, valid_label, batch_size=BATCH_SIZE, shuffle=True)\n",
        "test_ds = get_pipeline(test_input, test_label, batch_size=BATCH_SIZE)\n",
        "\n",
        "neg_weight = (train_label == 1).sum() / (train_label == 0).sum()\n",
        "\n",
        "os.makedirs(\"eval\", exist_ok=True)\n",
        "MONITOR_METRIC = \"val_loss\"\n",
        "MODE = \"min\"\n",
        "print(f\"Using {MONITOR_METRIC} metric and mode = {MODE} for EarlyStopping\")\n",
        "print(\"\\n\")\n",
        "\n",
        "csv_logger = CSVLogger(os.path.join(\"eval\", \"sentiment_analysis.log\"))\n",
        "lr_callback = ReduceLROnPlateau(patience=3, mode=MODE, min_lr=1e-8)\n",
        "stopper = EarlyStopping(patience=6, mode=MODE)\n",
        "\n",
        "model.fit(\n",
        "    train_ds,\n",
        "    epochs=10,\n",
        "    callbacks=[csv_logger, lr_callback, stopper],\n",
        "    validation_data=valid_ds,\n",
        "    class_weight={0: neg_weight, 1: 1.0},\n",
        ")\n",
        "\n",
        "os.makedirs(\"model\", exist_ok=True)\n",
        "save_model(model, os.path.join(\"model\", \"SentimentAnalyser.keras\"))"
      ]
    },
    {
      "cell_type": "code",
      "execution_count": 6,
      "metadata": {
        "colab": {
          "base_uri": "https://localhost:8080/"
        },
        "id": "UCG-SHz0lTyX",
        "outputId": "7693e1ca-fc87-4fd2-f23b-b5295459c4aa"
      },
      "outputs": [
        {
          "name": "stdout",
          "output_type": "stream",
          "text": [
            "88/88 [==============================] - 1s 7ms/step - loss: 0.7835 - accuracy: 0.8162\n",
            "Loss: 78.35%\n",
            "Accuracy: 81.62%\n"
          ]
        }
      ],
      "source": [
        "loss, accuracy = model.evaluate(test_ds)\n",
        "print(f\"Loss: {loss * 100:.2f}%\")\n",
        "print(f\"Accuracy: {accuracy * 100:.2f}%\")"
      ]
    },
    {
      "cell_type": "code",
      "execution_count": 9,
      "metadata": {
        "colab": {
          "base_uri": "https://localhost:8080/"
        },
        "id": "uzVJNt7rli-D",
        "outputId": "aa32a954-cf49-401e-e2c9-501eb33edff9"
      },
      "outputs": [
        {
          "name": "stdout",
          "output_type": "stream",
          "text": [
            "4/4 [==============================] - 0s 4ms/step\n",
            "4/4 [==============================] - 0s 4ms/step\n",
            "4/4 [==============================] - 0s 4ms/step\n",
            "4/4 [==============================] - 0s 4ms/step\n",
            "4/4 [==============================] - 0s 4ms/step\n",
            "4/4 [==============================] - 0s 3ms/step\n",
            "4/4 [==============================] - 0s 4ms/step\n",
            "4/4 [==============================] - 0s 5ms/step\n",
            "4/4 [==============================] - 0s 3ms/step\n",
            "4/4 [==============================] - 0s 4ms/step\n",
            "4/4 [==============================] - 0s 4ms/step\n",
            "4/4 [==============================] - 0s 4ms/step\n",
            "4/4 [==============================] - 0s 3ms/step\n",
            "4/4 [==============================] - 0s 4ms/step\n",
            "4/4 [==============================] - 0s 4ms/step\n",
            "4/4 [==============================] - 0s 3ms/step\n",
            "4/4 [==============================] - 0s 3ms/step\n",
            "4/4 [==============================] - 0s 4ms/step\n",
            "4/4 [==============================] - 0s 4ms/step\n",
            "4/4 [==============================] - 0s 4ms/step\n",
            "4/4 [==============================] - 0s 4ms/step\n",
            "4/4 [==============================] - 0s 4ms/step\n",
            "4/4 [==============================] - 0s 4ms/step\n",
            "4/4 [==============================] - 0s 4ms/step\n",
            "4/4 [==============================] - 0s 4ms/step\n",
            "4/4 [==============================] - 0s 4ms/step\n",
            "4/4 [==============================] - 0s 3ms/step\n",
            "4/4 [==============================] - 0s 4ms/step\n",
            "4/4 [==============================] - 0s 4ms/step\n",
            "4/4 [==============================] - 0s 3ms/step\n",
            "4/4 [==============================] - 0s 4ms/step\n",
            "4/4 [==============================] - 0s 4ms/step\n",
            "4/4 [==============================] - 0s 4ms/step\n",
            "4/4 [==============================] - 0s 3ms/step\n",
            "4/4 [==============================] - 0s 4ms/step\n",
            "4/4 [==============================] - 0s 4ms/step\n",
            "4/4 [==============================] - 0s 3ms/step\n",
            "4/4 [==============================] - 0s 4ms/step\n",
            "4/4 [==============================] - 0s 4ms/step\n",
            "4/4 [==============================] - 0s 4ms/step\n",
            "4/4 [==============================] - 0s 3ms/step\n",
            "4/4 [==============================] - 0s 4ms/step\n",
            "4/4 [==============================] - 0s 4ms/step\n",
            "4/4 [==============================] - 0s 3ms/step\n",
            "4/4 [==============================] - 0s 4ms/step\n",
            "4/4 [==============================] - 0s 4ms/step\n",
            "4/4 [==============================] - 0s 4ms/step\n",
            "4/4 [==============================] - 0s 4ms/step\n",
            "4/4 [==============================] - 0s 4ms/step\n",
            "4/4 [==============================] - 0s 4ms/step\n",
            "4/4 [==============================] - 0s 4ms/step\n",
            "4/4 [==============================] - 0s 4ms/step\n",
            "4/4 [==============================] - 0s 3ms/step\n",
            "4/4 [==============================] - 0s 3ms/step\n",
            "4/4 [==============================] - 0s 4ms/step\n",
            "4/4 [==============================] - 0s 4ms/step\n",
            "4/4 [==============================] - 0s 3ms/step\n",
            "4/4 [==============================] - 0s 4ms/step\n",
            "4/4 [==============================] - 0s 4ms/step\n",
            "4/4 [==============================] - 0s 5ms/step\n",
            "4/4 [==============================] - 0s 4ms/step\n",
            "4/4 [==============================] - 0s 4ms/step\n",
            "4/4 [==============================] - 0s 4ms/step\n",
            "4/4 [==============================] - 0s 4ms/step\n",
            "4/4 [==============================] - 0s 3ms/step\n",
            "4/4 [==============================] - 0s 4ms/step\n",
            "4/4 [==============================] - 0s 4ms/step\n",
            "4/4 [==============================] - 0s 4ms/step\n",
            "4/4 [==============================] - 0s 3ms/step\n",
            "4/4 [==============================] - 0s 4ms/step\n",
            "4/4 [==============================] - 0s 4ms/step\n",
            "4/4 [==============================] - 0s 4ms/step\n",
            "4/4 [==============================] - 0s 4ms/step\n",
            "4/4 [==============================] - 0s 4ms/step\n",
            "4/4 [==============================] - 0s 6ms/step\n",
            "4/4 [==============================] - 0s 4ms/step\n",
            "4/4 [==============================] - 0s 4ms/step\n",
            "4/4 [==============================] - 0s 4ms/step\n",
            "4/4 [==============================] - 0s 4ms/step\n",
            "4/4 [==============================] - 0s 4ms/step\n",
            "4/4 [==============================] - 0s 4ms/step\n",
            "4/4 [==============================] - 0s 4ms/step\n",
            "4/4 [==============================] - 0s 4ms/step\n",
            "4/4 [==============================] - 0s 4ms/step\n",
            "4/4 [==============================] - 0s 4ms/step\n",
            "4/4 [==============================] - 0s 3ms/step\n",
            "1/1 [==============================] - 0s 19ms/step\n",
            "2/2 [==============================] - 0s 7ms/step\n",
            "Most negative reviews\n",
            "\n",
            "==================================================\n",
            "give gift christmas return never work disk scratch upon receipt seller refuse replace buyer beware unk unk unk unk unk unk unk unk unk unk unk unk unk unk unk unk unk unk unk unk unk unk unk unk unk unk unk unk unk unk unk unk unk unk \n",
            "\n",
            "graphic bad maybe cd get game always seem lag first couple round game fun becomes repetative boring unk unk unk unk unk unk unk unk unk unk unk unk unk unk unk unk unk unk unk unk unk unk unk unk unk unk unk unk unk unk unk unk \n",
            "\n",
            "reproduction not original poor quality garbage unk unk unk unk unk unk unk \n",
            "\n",
            "gcn port loose driver impossible find issue weird `` unk '' voodoo unk \n",
            "\n",
            "get guitar not work not even check guitar would notice battery run battery holder completely full asset spring hold battery worthless guitar break not work 'm really disappointed unk unk unk unk unk unk unk unk unk unk unk unk unk unk unk unk unk unk unk unk unk \n",
            "\n",
            "\n",
            "Most positive reviews\n",
            "\n",
            "==================================================\n",
            "excellent game love art book 's treasure unk unk unk unk unk unk \n",
            "\n",
            "todo sin unk exelente vendedor la entrega fue unk tiempo los unk son de muy buena calidad saludos desde unk venezuela unk unk unk unk unk unk unk unk unk unk unk unk unk unk unk unk unk unk unk unk unk unk unk unk unk unk unk unk \n",
            "\n",
            "buy game 11 year old game great lot mini game story line cute fun end take play every time go school 'm unk 's alot better pet game unk fact think better dog cat horse 1 2 hamster puppy luv pet resort dog cat pet vet pet vet heal \n",
            "\n",
            "aaa+++ unk unk \n",
            "\n",
            "honestly ca not say whether original bioshock bioshock infinite favorite excellent amaze game ... yes buy unk unk unk unk unk unk unk unk unk unk unk unk unk unk unk unk unk unk unk unk unk unk unk unk unk unk unk unk unk unk unk unk unk \n",
            "\n"
          ]
        }
      ],
      "source": [
        "test_ds = get_pipeline(test_input, test_label, batch_size=BATCH_SIZE)\n",
        "\n",
        "features, predicted, labels = [], [], []\n",
        "for feature, label in test_ds:\n",
        "    features.append(feature)\n",
        "    predicted.append(model.predict(feature))\n",
        "    labels.append(label)\n",
        "\n",
        "features = [text for array in features for text in array.numpy().tolist()]\n",
        "predicted = tf.concat(predicted, axis=0).numpy()\n",
        "labels = tf.concat(labels, axis=0).numpy()\n",
        "\n",
        "sorted_pred = np.argsort(predicted.flatten())\n",
        "min_pred = sorted_pred[:5]\n",
        "max_pred = sorted_pred[-5:]\n",
        "\n",
        "print(\"Most negative reviews\\n\")\n",
        "print(\"=\" * 50)\n",
        "for i in min_pred:\n",
        "    print(\" \".join(tokenizer.sequences_to_texts([features[i]])), \"\\n\")\n",
        "\n",
        "print(\"\\nMost positive reviews\\n\")\n",
        "print(\"=\" * 50)\n",
        "for i in max_pred:\n",
        "    print(\" \".join(tokenizer.sequences_to_texts([features[i]])), \"\\n\")"
      ]
    },
    {
      "cell_type": "code",
      "execution_count": 10,
      "metadata": {},
      "outputs": [
        {
          "name": "stdout",
          "output_type": "stream",
          "text": [
            "       accuracy      loss  val_accuracy  val_loss\n",
            "epoch                                            \n",
            "0      0.802776  0.725648      0.834690  0.374978\n",
            "1      0.852662  0.593936      0.841020  0.366929\n",
            "2      0.872337  0.523735      0.840387  0.384333\n",
            "3      0.887405  0.464787      0.837674  0.404340\n",
            "4      0.900802  0.415984      0.829083  0.485406\n",
            "5      0.928084  0.317390      0.824200  0.607839\n",
            "6      0.933654  0.292707      0.819226  0.723355\n",
            "7      0.937514  0.276054      0.816513  0.806517\n"
          ]
        },
        {
          "data": {
            "image/png": "[encoded data removed]",
            "text/plain": [
              "<Figure size 800x400 with 1 Axes>"
            ]
          },
          "metadata": {},
          "output_type": "display_data"
        },
        {
          "data": {
            "image/png": "[encoded data removed]",
            "text/plain": [
              "<Figure size 800x400 with 1 Axes>"
            ]
          },
          "metadata": {},
          "output_type": "display_data"
        }
      ],
      "source": [
        "results = read_csv(os.path.join(\"eval\", \"sentiment_analysis.log\"), index_col=0)\n",
        "print(results)\n",
        "\n",
        "# Plot both val_loss and loss\n",
        "results[[\"val_loss\", \"loss\"]].plot(kind=\"line\", figsize=(8, 4), title=\"Loss\")\n",
        "pyplot.gca().spines[[\"top\", \"right\"]].set_visible(False)\n",
        "\n",
        "# Set labels and legend\n",
        "pyplot.xlabel(\"Epochs\")\n",
        "pyplot.ylabel(\"Loss\")\n",
        "pyplot.legend([\"Validation Loss\", \"Training Loss\"])\n",
        "\n",
        "# Show plot\n",
        "pyplot.show()\n",
        "\n",
        "# Plot accuracy and val_accuracy\n",
        "results[[\"val_accuracy\", \"accuracy\"]].plot(\n",
        "    kind=\"line\", figsize=(8, 4), title=\"Accuracy\"\n",
        ")\n",
        "pyplot.gca().spines[[\"top\", \"right\"]].set_visible(False)\n",
        "\n",
        "# Set labels and legend\n",
        "pyplot.xlabel(\"Epochs\")\n",
        "pyplot.ylabel(\"Accuracy\")\n",
        "pyplot.legend([\"Validation Accuracy\", \"Training Accuracy\"])\n",
        "\n",
        "# Show plot\n",
        "pyplot.show()"
      ]
    }
  ],
  "metadata": {
    "accelerator": "GPU",
    "colab": {
      "gpuType": "T4",
      "provenance": []
    },
    "kernelspec": {
      "display_name": "Python 3",
      "name": "python3"
    },
    "language_info": {
      "codemirror_mode": {
        "name": "ipython",
        "version": 3
      },
      "file_extension": ".py",
      "mimetype": "text/x-python",
      "name": "python",
      "nbconvert_exporter": "python",
      "pygments_lexer": "ipython3",
      "version": "3.11.7"
    }
  },
  "nbformat": 4,
  "nbformat_minor": 0
}
